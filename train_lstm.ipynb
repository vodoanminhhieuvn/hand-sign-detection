{
  "nbformat": 4,
  "nbformat_minor": 0,
  "metadata": {
    "colab": {
      "provenance": [],
      "gpuType": "T4"
    },
    "kernelspec": {
      "name": "python3",
      "display_name": "Python 3"
    },
    "language_info": {
      "name": "python"
    },
    "accelerator": "GPU"
  },
  "cells": [
    {
      "cell_type": "code",
      "source": [
        "import numpy as np\n",
        "import cv2\n",
        "import os\n",
        "import tensorflow as tf\n",
        "\n",
        "from sklearn.model_selection import train_test_split\n",
        "from tensorflow.keras.utils import to_categorical\n",
        "from tensorflow.keras.models import Sequential\n",
        "from tensorflow.keras.layers import LSTM, Dense"
      ],
      "metadata": {
        "id": "iF9tihztHXXH"
      },
      "execution_count": 2,
      "outputs": []
    },
    {
      "cell_type": "code",
      "source": [
        "tf.keras.backend.clear_session()"
      ],
      "metadata": {
        "id": "XeRplCATGS-Z"
      },
      "execution_count": 3,
      "outputs": []
    },
    {
      "cell_type": "code",
      "source": [
        "# import shutil\n",
        "\n",
        "# shutil.rmtree('__MACOSX')"
      ],
      "metadata": {
        "id": "Xf8t6hVoQo2D"
      },
      "execution_count": 4,
      "outputs": []
    },
    {
      "cell_type": "code",
      "source": [
        "!unzip -q \"/content/MP_Data.zip\""
      ],
      "metadata": {
        "id": "X1OU0fRsGJ6R"
      },
      "execution_count": 5,
      "outputs": []
    },
    {
      "cell_type": "markdown",
      "source": [
        "# Preprocessing Data"
      ],
      "metadata": {
        "id": "mu68OinoGt0u"
      }
    },
    {
      "cell_type": "code",
      "source": [
        "# Path for exported data, numpy arrays\n",
        "DATA_PATH = 'MP_Data'\n",
        "# Actions that we try to detect\n",
        "actions = np.array(['good', 'bad', 'iloveyou', 'hello'])\n",
        "# Thirty videos worth of data\n",
        "no_sequences = 30\n",
        "# Videos are going to be 30 frames in length\n",
        "sequence_length = 30"
      ],
      "metadata": {
        "id": "0HRfMNAqHQa6"
      },
      "execution_count": 6,
      "outputs": []
    },
    {
      "cell_type": "code",
      "source": [
        "label_map = {label:num for num, label in enumerate(actions)}"
      ],
      "metadata": {
        "id": "oYLoaTCRHTcB"
      },
      "execution_count": 7,
      "outputs": []
    },
    {
      "cell_type": "code",
      "execution_count": 8,
      "metadata": {
        "id": "hm44GPfhEBSK",
        "colab": {
          "base_uri": "https://localhost:8080/"
        },
        "outputId": "47eed930-449d-4b87-b4c4-2afdde829845"
      },
      "outputs": [
        {
          "output_type": "execute_result",
          "data": {
            "text/plain": [
              "{'good': 0, 'bad': 1, 'iloveyou': 2, 'hello': 3}"
            ]
          },
          "metadata": {},
          "execution_count": 8
        }
      ],
      "source": [
        "label_map"
      ]
    },
    {
      "cell_type": "code",
      "source": [
        "sequences, labels = [], []\n",
        "for action in actions:\n",
        "    for sequence in range(no_sequences):\n",
        "        window = []\n",
        "        for frame_num in range(sequence_length):\n",
        "            res = np.load(os.path.join(DATA_PATH, action, str(sequence), \"{}.npy\".format(frame_num)))\n",
        "            window.append(res)\n",
        "        sequences.append(window)\n",
        "        labels.append(label_map[action])"
      ],
      "metadata": {
        "id": "Gcr0ySGXF-pe"
      },
      "execution_count": 9,
      "outputs": []
    },
    {
      "cell_type": "code",
      "source": [
        "X = np.array(sequences)"
      ],
      "metadata": {
        "id": "JEdmQPgrH6fZ"
      },
      "execution_count": 10,
      "outputs": []
    },
    {
      "cell_type": "code",
      "source": [
        "y = to_categorical(labels).astype(int)"
      ],
      "metadata": {
        "id": "erD3ZePQI0QM"
      },
      "execution_count": 11,
      "outputs": []
    },
    {
      "cell_type": "code",
      "source": [
        "X_train, X_test, y_train, y_test = train_test_split(X, y, test_size=0.2)"
      ],
      "metadata": {
        "id": "K7s9OUUqI3OJ"
      },
      "execution_count": 12,
      "outputs": []
    },
    {
      "cell_type": "markdown",
      "source": [
        "# Build Model"
      ],
      "metadata": {
        "id": "8FO-WkurHx7j"
      }
    },
    {
      "cell_type": "code",
      "source": [
        "model = Sequential()\n",
        "model.add(LSTM(64, return_sequences=True, activation='relu', input_shape=(30,1662)))\n",
        "model.add(LSTM(128, return_sequences=True, activation='relu'))\n",
        "model.add(LSTM(64, return_sequences=False, activation='relu'))\n",
        "model.add(Dense(64, activation='relu'))\n",
        "model.add(Dense(32, activation='relu'))\n",
        "model.add(Dense(actions.shape[0], activation='softmax'))"
      ],
      "metadata": {
        "colab": {
          "base_uri": "https://localhost:8080/"
        },
        "id": "XLzDJDGaF2gs",
        "outputId": "bf31b186-7697-4fff-8926-b7b6363153b5"
      },
      "execution_count": 13,
      "outputs": [
        {
          "output_type": "stream",
          "name": "stderr",
          "text": [
            "WARNING:tensorflow:Layer lstm will not use cuDNN kernels since it doesn't meet the criteria. It will use a generic GPU kernel as fallback when running on GPU.\n",
            "WARNING:tensorflow:Layer lstm_1 will not use cuDNN kernels since it doesn't meet the criteria. It will use a generic GPU kernel as fallback when running on GPU.\n",
            "WARNING:tensorflow:Layer lstm_2 will not use cuDNN kernels since it doesn't meet the criteria. It will use a generic GPU kernel as fallback when running on GPU.\n"
          ]
        }
      ]
    },
    {
      "cell_type": "code",
      "source": [
        "model.compile(optimizer='Adam', loss='categorical_crossentropy', metrics=['categorical_accuracy'])"
      ],
      "metadata": {
        "id": "g9rB_kjfF6Bp"
      },
      "execution_count": 14,
      "outputs": []
    },
    {
      "cell_type": "code",
      "source": [
        "# early_stopping = tf.keras.callbacks.EarlyStopping(monitor='loss',\n",
        "#                                                   patience=5)"
      ],
      "metadata": {
        "id": "XaE-p8ehJCuY"
      },
      "execution_count": 15,
      "outputs": []
    },
    {
      "cell_type": "code",
      "source": [
        "model.fit(X_train, y_train, epochs=200)"
      ],
      "metadata": {
        "colab": {
          "base_uri": "https://localhost:8080/"
        },
        "id": "CsBG-0a0JDRL",
        "outputId": "f1f8d01f-ee29-463c-b8bf-80ea3e6876a4"
      },
      "execution_count": 16,
      "outputs": [
        {
          "output_type": "stream",
          "name": "stdout",
          "text": [
            "Epoch 1/200\n",
            "3/3 [==============================] - 6s 88ms/step - loss: 6.2604 - categorical_accuracy: 0.2500\n",
            "Epoch 2/200\n",
            "3/3 [==============================] - 0s 86ms/step - loss: 3.4759 - categorical_accuracy: 0.2500\n",
            "Epoch 3/200\n",
            "3/3 [==============================] - 0s 95ms/step - loss: 1.4073 - categorical_accuracy: 0.3021\n",
            "Epoch 4/200\n",
            "3/3 [==============================] - 0s 76ms/step - loss: 1.4165 - categorical_accuracy: 0.2396\n",
            "Epoch 5/200\n",
            "3/3 [==============================] - 0s 81ms/step - loss: 1.3897 - categorical_accuracy: 0.2917\n",
            "Epoch 6/200\n",
            "3/3 [==============================] - 0s 80ms/step - loss: 1.3850 - categorical_accuracy: 0.3229\n",
            "Epoch 7/200\n",
            "3/3 [==============================] - 0s 78ms/step - loss: 1.3854 - categorical_accuracy: 0.2812\n",
            "Epoch 8/200\n",
            "3/3 [==============================] - 0s 86ms/step - loss: 1.3818 - categorical_accuracy: 0.2917\n",
            "Epoch 9/200\n",
            "3/3 [==============================] - 0s 75ms/step - loss: 1.3866 - categorical_accuracy: 0.2917\n",
            "Epoch 10/200\n",
            "3/3 [==============================] - 0s 93ms/step - loss: 1.3829 - categorical_accuracy: 0.2917\n",
            "Epoch 11/200\n",
            "3/3 [==============================] - 0s 83ms/step - loss: 1.3767 - categorical_accuracy: 0.2917\n",
            "Epoch 12/200\n",
            "3/3 [==============================] - 0s 74ms/step - loss: 1.3776 - categorical_accuracy: 0.3333\n",
            "Epoch 13/200\n",
            "3/3 [==============================] - 0s 75ms/step - loss: 1.3743 - categorical_accuracy: 0.4062\n",
            "Epoch 14/200\n",
            "3/3 [==============================] - 0s 95ms/step - loss: 1.3819 - categorical_accuracy: 0.3125\n",
            "Epoch 15/200\n",
            "3/3 [==============================] - 0s 154ms/step - loss: 1.3691 - categorical_accuracy: 0.3021\n",
            "Epoch 16/200\n",
            "3/3 [==============================] - 0s 144ms/step - loss: 1.3649 - categorical_accuracy: 0.4167\n",
            "Epoch 17/200\n",
            "3/3 [==============================] - 0s 135ms/step - loss: 1.3539 - categorical_accuracy: 0.4375\n",
            "Epoch 18/200\n",
            "3/3 [==============================] - 0s 134ms/step - loss: 1.3445 - categorical_accuracy: 0.3646\n",
            "Epoch 19/200\n",
            "3/3 [==============================] - 0s 135ms/step - loss: 1.3234 - categorical_accuracy: 0.3750\n",
            "Epoch 20/200\n",
            "3/3 [==============================] - 0s 136ms/step - loss: 1.3503 - categorical_accuracy: 0.3646\n",
            "Epoch 21/200\n",
            "3/3 [==============================] - 0s 93ms/step - loss: 1.3896 - categorical_accuracy: 0.2500\n",
            "Epoch 22/200\n",
            "3/3 [==============================] - 0s 77ms/step - loss: 1.3386 - categorical_accuracy: 0.3021\n",
            "Epoch 23/200\n",
            "3/3 [==============================] - 0s 77ms/step - loss: 1.3465 - categorical_accuracy: 0.3229\n",
            "Epoch 24/200\n",
            "3/3 [==============================] - 0s 84ms/step - loss: 1.2982 - categorical_accuracy: 0.4167\n",
            "Epoch 25/200\n",
            "3/3 [==============================] - 0s 76ms/step - loss: 1.3119 - categorical_accuracy: 0.3438\n",
            "Epoch 26/200\n",
            "3/3 [==============================] - 0s 80ms/step - loss: 1.3118 - categorical_accuracy: 0.3750\n",
            "Epoch 27/200\n",
            "3/3 [==============================] - 0s 77ms/step - loss: 1.3634 - categorical_accuracy: 0.3958\n",
            "Epoch 28/200\n",
            "3/3 [==============================] - 0s 80ms/step - loss: 1.2472 - categorical_accuracy: 0.4375\n",
            "Epoch 29/200\n",
            "3/3 [==============================] - 0s 76ms/step - loss: 1.3119 - categorical_accuracy: 0.3750\n",
            "Epoch 30/200\n",
            "3/3 [==============================] - 0s 110ms/step - loss: 1.2724 - categorical_accuracy: 0.4062\n",
            "Epoch 31/200\n",
            "3/3 [==============================] - 0s 71ms/step - loss: 1.2274 - categorical_accuracy: 0.4271\n",
            "Epoch 32/200\n",
            "3/3 [==============================] - 0s 82ms/step - loss: 1.1698 - categorical_accuracy: 0.4167\n",
            "Epoch 33/200\n",
            "3/3 [==============================] - 0s 83ms/step - loss: 1.3188 - categorical_accuracy: 0.4271\n",
            "Epoch 34/200\n",
            "3/3 [==============================] - 0s 76ms/step - loss: 1.4333 - categorical_accuracy: 0.2708\n",
            "Epoch 35/200\n",
            "3/3 [==============================] - 0s 76ms/step - loss: 1.3007 - categorical_accuracy: 0.3750\n",
            "Epoch 36/200\n",
            "3/3 [==============================] - 0s 79ms/step - loss: 1.3418 - categorical_accuracy: 0.3646\n",
            "Epoch 37/200\n",
            "3/3 [==============================] - 0s 71ms/step - loss: 1.3577 - categorical_accuracy: 0.3125\n",
            "Epoch 38/200\n",
            "3/3 [==============================] - 0s 75ms/step - loss: 1.3588 - categorical_accuracy: 0.3125\n",
            "Epoch 39/200\n",
            "3/3 [==============================] - 0s 75ms/step - loss: 1.3501 - categorical_accuracy: 0.3125\n",
            "Epoch 40/200\n",
            "3/3 [==============================] - 0s 74ms/step - loss: 1.3324 - categorical_accuracy: 0.3229\n",
            "Epoch 41/200\n",
            "3/3 [==============================] - 0s 87ms/step - loss: 1.3101 - categorical_accuracy: 0.4167\n",
            "Epoch 42/200\n",
            "3/3 [==============================] - 0s 78ms/step - loss: 1.2952 - categorical_accuracy: 0.4062\n",
            "Epoch 43/200\n",
            "3/3 [==============================] - 0s 83ms/step - loss: 1.2456 - categorical_accuracy: 0.4583\n",
            "Epoch 44/200\n",
            "3/3 [==============================] - 0s 79ms/step - loss: 1.1531 - categorical_accuracy: 0.4688\n",
            "Epoch 45/200\n",
            "3/3 [==============================] - 0s 74ms/step - loss: 1.0736 - categorical_accuracy: 0.5000\n",
            "Epoch 46/200\n",
            "3/3 [==============================] - 0s 74ms/step - loss: 1.1039 - categorical_accuracy: 0.4896\n",
            "Epoch 47/200\n",
            "3/3 [==============================] - 0s 77ms/step - loss: 1.1463 - categorical_accuracy: 0.4271\n",
            "Epoch 48/200\n",
            "3/3 [==============================] - 0s 74ms/step - loss: 1.1675 - categorical_accuracy: 0.4479\n",
            "Epoch 49/200\n",
            "3/3 [==============================] - 0s 81ms/step - loss: 1.2480 - categorical_accuracy: 0.3646\n",
            "Epoch 50/200\n",
            "3/3 [==============================] - 0s 77ms/step - loss: 1.1816 - categorical_accuracy: 0.3958\n",
            "Epoch 51/200\n",
            "3/3 [==============================] - 0s 77ms/step - loss: 1.2004 - categorical_accuracy: 0.3750\n",
            "Epoch 52/200\n",
            "3/3 [==============================] - 0s 75ms/step - loss: 1.1492 - categorical_accuracy: 0.4792\n",
            "Epoch 53/200\n",
            "3/3 [==============================] - 0s 77ms/step - loss: 1.1066 - categorical_accuracy: 0.4583\n",
            "Epoch 54/200\n",
            "3/3 [==============================] - 0s 78ms/step - loss: 1.0111 - categorical_accuracy: 0.5312\n",
            "Epoch 55/200\n",
            "3/3 [==============================] - 0s 77ms/step - loss: 0.9949 - categorical_accuracy: 0.5000\n",
            "Epoch 56/200\n",
            "3/3 [==============================] - 0s 83ms/step - loss: 0.8549 - categorical_accuracy: 0.5417\n",
            "Epoch 57/200\n",
            "3/3 [==============================] - 0s 81ms/step - loss: 1.2884 - categorical_accuracy: 0.4896\n",
            "Epoch 58/200\n",
            "3/3 [==============================] - 0s 85ms/step - loss: 1.0447 - categorical_accuracy: 0.4479\n",
            "Epoch 59/200\n",
            "3/3 [==============================] - 0s 80ms/step - loss: 1.0230 - categorical_accuracy: 0.5312\n",
            "Epoch 60/200\n",
            "3/3 [==============================] - 0s 81ms/step - loss: 0.9854 - categorical_accuracy: 0.6042\n",
            "Epoch 61/200\n",
            "3/3 [==============================] - 0s 83ms/step - loss: 0.9418 - categorical_accuracy: 0.5208\n",
            "Epoch 62/200\n",
            "3/3 [==============================] - 0s 114ms/step - loss: 0.8955 - categorical_accuracy: 0.5208\n",
            "Epoch 63/200\n",
            "3/3 [==============================] - 0s 145ms/step - loss: 0.8354 - categorical_accuracy: 0.5104\n",
            "Epoch 64/200\n",
            "3/3 [==============================] - 0s 136ms/step - loss: 0.7848 - categorical_accuracy: 0.5521\n",
            "Epoch 65/200\n",
            "3/3 [==============================] - 0s 137ms/step - loss: 0.7358 - categorical_accuracy: 0.6354\n",
            "Epoch 66/200\n",
            "3/3 [==============================] - 0s 133ms/step - loss: 0.6861 - categorical_accuracy: 0.6146\n",
            "Epoch 67/200\n",
            "3/3 [==============================] - 0s 140ms/step - loss: 0.8972 - categorical_accuracy: 0.5938\n",
            "Epoch 68/200\n",
            "3/3 [==============================] - 0s 80ms/step - loss: 2.4349 - categorical_accuracy: 0.2917\n",
            "Epoch 69/200\n",
            "3/3 [==============================] - 0s 81ms/step - loss: 1.1602 - categorical_accuracy: 0.3958\n",
            "Epoch 70/200\n",
            "3/3 [==============================] - 0s 85ms/step - loss: 1.2825 - categorical_accuracy: 0.2396\n",
            "Epoch 71/200\n",
            "3/3 [==============================] - 0s 85ms/step - loss: 1.3210 - categorical_accuracy: 0.2292\n",
            "Epoch 72/200\n",
            "3/3 [==============================] - 0s 78ms/step - loss: 1.2990 - categorical_accuracy: 0.2812\n",
            "Epoch 73/200\n",
            "3/3 [==============================] - 0s 81ms/step - loss: 1.2958 - categorical_accuracy: 0.4479\n",
            "Epoch 74/200\n",
            "3/3 [==============================] - 0s 89ms/step - loss: 1.2955 - categorical_accuracy: 0.4167\n",
            "Epoch 75/200\n",
            "3/3 [==============================] - 0s 88ms/step - loss: 1.2785 - categorical_accuracy: 0.3958\n",
            "Epoch 76/200\n",
            "3/3 [==============================] - 0s 89ms/step - loss: 1.2459 - categorical_accuracy: 0.4479\n",
            "Epoch 77/200\n",
            "3/3 [==============================] - 0s 80ms/step - loss: 1.2219 - categorical_accuracy: 0.4583\n",
            "Epoch 78/200\n",
            "3/3 [==============================] - 0s 87ms/step - loss: 1.1958 - categorical_accuracy: 0.5208\n",
            "Epoch 79/200\n",
            "3/3 [==============================] - 0s 79ms/step - loss: 1.1609 - categorical_accuracy: 0.5000\n",
            "Epoch 80/200\n",
            "3/3 [==============================] - 0s 83ms/step - loss: 1.1166 - categorical_accuracy: 0.5312\n",
            "Epoch 81/200\n",
            "3/3 [==============================] - 0s 73ms/step - loss: 1.0566 - categorical_accuracy: 0.5833\n",
            "Epoch 82/200\n",
            "3/3 [==============================] - 0s 82ms/step - loss: 0.9774 - categorical_accuracy: 0.5208\n",
            "Epoch 83/200\n",
            "3/3 [==============================] - 0s 79ms/step - loss: 0.8769 - categorical_accuracy: 0.5417\n",
            "Epoch 84/200\n",
            "3/3 [==============================] - 0s 73ms/step - loss: 0.8815 - categorical_accuracy: 0.5208\n",
            "Epoch 85/200\n",
            "3/3 [==============================] - 0s 76ms/step - loss: 0.7625 - categorical_accuracy: 0.5104\n",
            "Epoch 86/200\n",
            "3/3 [==============================] - 0s 79ms/step - loss: 0.8027 - categorical_accuracy: 0.5521\n",
            "Epoch 87/200\n",
            "3/3 [==============================] - 0s 71ms/step - loss: 1.1124 - categorical_accuracy: 0.5208\n",
            "Epoch 88/200\n",
            "3/3 [==============================] - 0s 83ms/step - loss: 1.0455 - categorical_accuracy: 0.5208\n",
            "Epoch 89/200\n",
            "3/3 [==============================] - 0s 79ms/step - loss: 1.0061 - categorical_accuracy: 0.5312\n",
            "Epoch 90/200\n",
            "3/3 [==============================] - 0s 81ms/step - loss: 0.9163 - categorical_accuracy: 0.5938\n",
            "Epoch 91/200\n",
            "3/3 [==============================] - 0s 80ms/step - loss: 0.8705 - categorical_accuracy: 0.5833\n",
            "Epoch 92/200\n",
            "3/3 [==============================] - 0s 81ms/step - loss: 0.8935 - categorical_accuracy: 0.6146\n",
            "Epoch 93/200\n",
            "3/3 [==============================] - 0s 87ms/step - loss: 0.8509 - categorical_accuracy: 0.5208\n",
            "Epoch 94/200\n",
            "3/3 [==============================] - 0s 83ms/step - loss: 0.7513 - categorical_accuracy: 0.5729\n",
            "Epoch 95/200\n",
            "3/3 [==============================] - 0s 93ms/step - loss: 0.8043 - categorical_accuracy: 0.5729\n",
            "Epoch 96/200\n",
            "3/3 [==============================] - 0s 94ms/step - loss: 0.7572 - categorical_accuracy: 0.5521\n",
            "Epoch 97/200\n",
            "3/3 [==============================] - 0s 83ms/step - loss: 0.6762 - categorical_accuracy: 0.6042\n",
            "Epoch 98/200\n",
            "3/3 [==============================] - 0s 83ms/step - loss: 0.6713 - categorical_accuracy: 0.6562\n",
            "Epoch 99/200\n",
            "3/3 [==============================] - 0s 78ms/step - loss: 0.6189 - categorical_accuracy: 0.6875\n",
            "Epoch 100/200\n",
            "3/3 [==============================] - 0s 82ms/step - loss: 0.5877 - categorical_accuracy: 0.6354\n",
            "Epoch 101/200\n",
            "3/3 [==============================] - 0s 77ms/step - loss: 0.6147 - categorical_accuracy: 0.6458\n",
            "Epoch 102/200\n",
            "3/3 [==============================] - 0s 75ms/step - loss: 0.7125 - categorical_accuracy: 0.5833\n",
            "Epoch 103/200\n",
            "3/3 [==============================] - 0s 79ms/step - loss: 0.7623 - categorical_accuracy: 0.5833\n",
            "Epoch 104/200\n",
            "3/3 [==============================] - 0s 80ms/step - loss: 0.8417 - categorical_accuracy: 0.5729\n",
            "Epoch 105/200\n",
            "3/3 [==============================] - 0s 75ms/step - loss: 0.8303 - categorical_accuracy: 0.6146\n",
            "Epoch 106/200\n",
            "3/3 [==============================] - 0s 85ms/step - loss: 0.7423 - categorical_accuracy: 0.6354\n",
            "Epoch 107/200\n",
            "3/3 [==============================] - 0s 84ms/step - loss: 0.8051 - categorical_accuracy: 0.5833\n",
            "Epoch 108/200\n",
            "3/3 [==============================] - 0s 77ms/step - loss: 0.7532 - categorical_accuracy: 0.6146\n",
            "Epoch 109/200\n",
            "3/3 [==============================] - 0s 117ms/step - loss: 0.6844 - categorical_accuracy: 0.6250\n",
            "Epoch 110/200\n",
            "3/3 [==============================] - 0s 131ms/step - loss: 0.6552 - categorical_accuracy: 0.6667\n",
            "Epoch 111/200\n",
            "3/3 [==============================] - 0s 143ms/step - loss: 0.6188 - categorical_accuracy: 0.6354\n",
            "Epoch 112/200\n",
            "3/3 [==============================] - 0s 135ms/step - loss: 0.5910 - categorical_accuracy: 0.6250\n",
            "Epoch 113/200\n",
            "3/3 [==============================] - 0s 143ms/step - loss: 0.5423 - categorical_accuracy: 0.6667\n",
            "Epoch 114/200\n",
            "3/3 [==============================] - 0s 143ms/step - loss: 0.5768 - categorical_accuracy: 0.6562\n",
            "Epoch 115/200\n",
            "3/3 [==============================] - 0s 82ms/step - loss: 0.5687 - categorical_accuracy: 0.6979\n",
            "Epoch 116/200\n",
            "3/3 [==============================] - 0s 85ms/step - loss: 0.5234 - categorical_accuracy: 0.7917\n",
            "Epoch 117/200\n",
            "3/3 [==============================] - 0s 81ms/step - loss: 0.5248 - categorical_accuracy: 0.6979\n",
            "Epoch 118/200\n",
            "3/3 [==============================] - 0s 79ms/step - loss: 0.7672 - categorical_accuracy: 0.6562\n",
            "Epoch 119/200\n",
            "3/3 [==============================] - 0s 80ms/step - loss: 0.8719 - categorical_accuracy: 0.5208\n",
            "Epoch 120/200\n",
            "3/3 [==============================] - 0s 81ms/step - loss: 0.7288 - categorical_accuracy: 0.5521\n",
            "Epoch 121/200\n",
            "3/3 [==============================] - 0s 87ms/step - loss: 0.6253 - categorical_accuracy: 0.6667\n",
            "Epoch 122/200\n",
            "3/3 [==============================] - 0s 85ms/step - loss: 0.6240 - categorical_accuracy: 0.7292\n",
            "Epoch 123/200\n",
            "3/3 [==============================] - 0s 84ms/step - loss: 0.6835 - categorical_accuracy: 0.6354\n",
            "Epoch 124/200\n",
            "3/3 [==============================] - 0s 82ms/step - loss: 0.5662 - categorical_accuracy: 0.6875\n",
            "Epoch 125/200\n",
            "3/3 [==============================] - 0s 89ms/step - loss: 0.5610 - categorical_accuracy: 0.6875\n",
            "Epoch 126/200\n",
            "3/3 [==============================] - 0s 83ms/step - loss: 0.5313 - categorical_accuracy: 0.6875\n",
            "Epoch 127/200\n",
            "3/3 [==============================] - 0s 91ms/step - loss: 0.5117 - categorical_accuracy: 0.7083\n",
            "Epoch 128/200\n",
            "3/3 [==============================] - 0s 95ms/step - loss: 0.4975 - categorical_accuracy: 0.7604\n",
            "Epoch 129/200\n",
            "3/3 [==============================] - 0s 82ms/step - loss: 0.5588 - categorical_accuracy: 0.7188\n",
            "Epoch 130/200\n",
            "3/3 [==============================] - 0s 88ms/step - loss: 0.5482 - categorical_accuracy: 0.6667\n",
            "Epoch 131/200\n",
            "3/3 [==============================] - 0s 80ms/step - loss: 0.6533 - categorical_accuracy: 0.6354\n",
            "Epoch 132/200\n",
            "3/3 [==============================] - 0s 83ms/step - loss: 0.5809 - categorical_accuracy: 0.7396\n",
            "Epoch 133/200\n",
            "3/3 [==============================] - 0s 82ms/step - loss: 0.5145 - categorical_accuracy: 0.7708\n",
            "Epoch 134/200\n",
            "3/3 [==============================] - 0s 79ms/step - loss: 0.5287 - categorical_accuracy: 0.7708\n",
            "Epoch 135/200\n",
            "3/3 [==============================] - 0s 90ms/step - loss: 0.4548 - categorical_accuracy: 0.8021\n",
            "Epoch 136/200\n",
            "3/3 [==============================] - 0s 86ms/step - loss: 0.4744 - categorical_accuracy: 0.7604\n",
            "Epoch 137/200\n",
            "3/3 [==============================] - 0s 77ms/step - loss: 0.5282 - categorical_accuracy: 0.7083\n",
            "Epoch 138/200\n",
            "3/3 [==============================] - 0s 79ms/step - loss: 0.4206 - categorical_accuracy: 0.8125\n",
            "Epoch 139/200\n",
            "3/3 [==============================] - 0s 81ms/step - loss: 1.5127 - categorical_accuracy: 0.6354\n",
            "Epoch 140/200\n",
            "3/3 [==============================] - 0s 89ms/step - loss: 1.6581 - categorical_accuracy: 0.3646\n",
            "Epoch 141/200\n",
            "3/3 [==============================] - 0s 81ms/step - loss: 1.1786 - categorical_accuracy: 0.3438\n",
            "Epoch 142/200\n",
            "3/3 [==============================] - 0s 80ms/step - loss: 1.3594 - categorical_accuracy: 0.2500\n",
            "Epoch 143/200\n",
            "3/3 [==============================] - 0s 87ms/step - loss: 1.2173 - categorical_accuracy: 0.3958\n",
            "Epoch 144/200\n",
            "3/3 [==============================] - 0s 83ms/step - loss: 1.2459 - categorical_accuracy: 0.3021\n",
            "Epoch 145/200\n",
            "3/3 [==============================] - 0s 84ms/step - loss: 1.1815 - categorical_accuracy: 0.3750\n",
            "Epoch 146/200\n",
            "3/3 [==============================] - 0s 83ms/step - loss: 1.1095 - categorical_accuracy: 0.3750\n",
            "Epoch 147/200\n",
            "3/3 [==============================] - 0s 80ms/step - loss: 1.0146 - categorical_accuracy: 0.4688\n",
            "Epoch 148/200\n",
            "3/3 [==============================] - 0s 87ms/step - loss: 0.9062 - categorical_accuracy: 0.5104\n",
            "Epoch 149/200\n",
            "3/3 [==============================] - 0s 82ms/step - loss: 0.9017 - categorical_accuracy: 0.5104\n",
            "Epoch 150/200\n",
            "3/3 [==============================] - 0s 88ms/step - loss: 0.8903 - categorical_accuracy: 0.5208\n",
            "Epoch 151/200\n",
            "3/3 [==============================] - 0s 80ms/step - loss: 0.7910 - categorical_accuracy: 0.6146\n",
            "Epoch 152/200\n",
            "3/3 [==============================] - 0s 82ms/step - loss: 0.6938 - categorical_accuracy: 0.6354\n",
            "Epoch 153/200\n",
            "3/3 [==============================] - 0s 77ms/step - loss: 0.6400 - categorical_accuracy: 0.6042\n",
            "Epoch 154/200\n",
            "3/3 [==============================] - 0s 136ms/step - loss: 0.8412 - categorical_accuracy: 0.5833\n",
            "Epoch 155/200\n",
            "3/3 [==============================] - 0s 127ms/step - loss: 0.7692 - categorical_accuracy: 0.5938\n",
            "Epoch 156/200\n",
            "3/3 [==============================] - 0s 143ms/step - loss: 0.6749 - categorical_accuracy: 0.6979\n",
            "Epoch 157/200\n",
            "3/3 [==============================] - 0s 132ms/step - loss: 0.6409 - categorical_accuracy: 0.6979\n",
            "Epoch 158/200\n",
            "3/3 [==============================] - 0s 132ms/step - loss: 0.6930 - categorical_accuracy: 0.5938\n",
            "Epoch 159/200\n",
            "3/3 [==============================] - 0s 139ms/step - loss: 0.5624 - categorical_accuracy: 0.6354\n",
            "Epoch 160/200\n",
            "3/3 [==============================] - 0s 83ms/step - loss: 0.5652 - categorical_accuracy: 0.6771\n",
            "Epoch 161/200\n",
            "3/3 [==============================] - 0s 85ms/step - loss: 0.5689 - categorical_accuracy: 0.7188\n",
            "Epoch 162/200\n",
            "3/3 [==============================] - 0s 85ms/step - loss: 0.5679 - categorical_accuracy: 0.7188\n",
            "Epoch 163/200\n",
            "3/3 [==============================] - 0s 85ms/step - loss: 0.6255 - categorical_accuracy: 0.6250\n",
            "Epoch 164/200\n",
            "3/3 [==============================] - 0s 73ms/step - loss: 0.6193 - categorical_accuracy: 0.6458\n",
            "Epoch 165/200\n",
            "3/3 [==============================] - 0s 81ms/step - loss: 0.6012 - categorical_accuracy: 0.7396\n",
            "Epoch 166/200\n",
            "3/3 [==============================] - 0s 86ms/step - loss: 0.4831 - categorical_accuracy: 0.7292\n",
            "Epoch 167/200\n",
            "3/3 [==============================] - 0s 88ms/step - loss: 0.6711 - categorical_accuracy: 0.6875\n",
            "Epoch 168/200\n",
            "3/3 [==============================] - 0s 80ms/step - loss: 0.7157 - categorical_accuracy: 0.6458\n",
            "Epoch 169/200\n",
            "3/3 [==============================] - 0s 76ms/step - loss: 0.8107 - categorical_accuracy: 0.5625\n",
            "Epoch 170/200\n",
            "3/3 [==============================] - 0s 79ms/step - loss: 0.7723 - categorical_accuracy: 0.5208\n",
            "Epoch 171/200\n",
            "3/3 [==============================] - 0s 88ms/step - loss: 0.7226 - categorical_accuracy: 0.6250\n",
            "Epoch 172/200\n",
            "3/3 [==============================] - 0s 84ms/step - loss: 0.6791 - categorical_accuracy: 0.6250\n",
            "Epoch 173/200\n",
            "3/3 [==============================] - 0s 82ms/step - loss: 0.5958 - categorical_accuracy: 0.7500\n",
            "Epoch 174/200\n",
            "3/3 [==============================] - 0s 79ms/step - loss: 0.5430 - categorical_accuracy: 0.7500\n",
            "Epoch 175/200\n",
            "3/3 [==============================] - 0s 86ms/step - loss: 0.5711 - categorical_accuracy: 0.6562\n",
            "Epoch 176/200\n",
            "3/3 [==============================] - 0s 82ms/step - loss: 0.4799 - categorical_accuracy: 0.7708\n",
            "Epoch 177/200\n",
            "3/3 [==============================] - 0s 76ms/step - loss: 0.4851 - categorical_accuracy: 0.6979\n",
            "Epoch 178/200\n",
            "3/3 [==============================] - 0s 83ms/step - loss: 0.4327 - categorical_accuracy: 0.7500\n",
            "Epoch 179/200\n",
            "3/3 [==============================] - 0s 82ms/step - loss: 0.4357 - categorical_accuracy: 0.7708\n",
            "Epoch 180/200\n",
            "3/3 [==============================] - 0s 77ms/step - loss: 0.3919 - categorical_accuracy: 0.7917\n",
            "Epoch 181/200\n",
            "3/3 [==============================] - 0s 80ms/step - loss: 0.4101 - categorical_accuracy: 0.7812\n",
            "Epoch 182/200\n",
            "3/3 [==============================] - 0s 74ms/step - loss: 0.3749 - categorical_accuracy: 0.8229\n",
            "Epoch 183/200\n",
            "3/3 [==============================] - 0s 84ms/step - loss: 0.5423 - categorical_accuracy: 0.7812\n",
            "Epoch 184/200\n",
            "3/3 [==============================] - 0s 80ms/step - loss: 0.4931 - categorical_accuracy: 0.8021\n",
            "Epoch 185/200\n",
            "3/3 [==============================] - 0s 77ms/step - loss: 0.5787 - categorical_accuracy: 0.6667\n",
            "Epoch 186/200\n",
            "3/3 [==============================] - 0s 80ms/step - loss: 0.5388 - categorical_accuracy: 0.7083\n",
            "Epoch 187/200\n",
            "3/3 [==============================] - 0s 82ms/step - loss: 0.4167 - categorical_accuracy: 0.8646\n",
            "Epoch 188/200\n",
            "3/3 [==============================] - 0s 83ms/step - loss: 0.7095 - categorical_accuracy: 0.6354\n",
            "Epoch 189/200\n",
            "3/3 [==============================] - 0s 77ms/step - loss: 0.7311 - categorical_accuracy: 0.5833\n",
            "Epoch 190/200\n",
            "3/3 [==============================] - 0s 79ms/step - loss: 0.7578 - categorical_accuracy: 0.5833\n",
            "Epoch 191/200\n",
            "3/3 [==============================] - 0s 83ms/step - loss: 0.7979 - categorical_accuracy: 0.5729\n",
            "Epoch 192/200\n",
            "3/3 [==============================] - 0s 79ms/step - loss: 0.6743 - categorical_accuracy: 0.7083\n",
            "Epoch 193/200\n",
            "3/3 [==============================] - 0s 79ms/step - loss: 0.6317 - categorical_accuracy: 0.6250\n",
            "Epoch 194/200\n",
            "3/3 [==============================] - 0s 78ms/step - loss: 0.5619 - categorical_accuracy: 0.6771\n",
            "Epoch 195/200\n",
            "3/3 [==============================] - 0s 78ms/step - loss: 0.4818 - categorical_accuracy: 0.7188\n",
            "Epoch 196/200\n",
            "3/3 [==============================] - 0s 80ms/step - loss: 0.4718 - categorical_accuracy: 0.6875\n",
            "Epoch 197/200\n",
            "3/3 [==============================] - 0s 82ms/step - loss: 0.4188 - categorical_accuracy: 0.7604\n",
            "Epoch 198/200\n",
            "3/3 [==============================] - 0s 84ms/step - loss: 0.3990 - categorical_accuracy: 0.7604\n",
            "Epoch 199/200\n",
            "3/3 [==============================] - 0s 80ms/step - loss: 0.4320 - categorical_accuracy: 0.7708\n",
            "Epoch 200/200\n",
            "3/3 [==============================] - 0s 88ms/step - loss: 0.4119 - categorical_accuracy: 0.8021\n"
          ]
        },
        {
          "output_type": "execute_result",
          "data": {
            "text/plain": [
              "<keras.callbacks.History at 0x794820d53490>"
            ]
          },
          "metadata": {},
          "execution_count": 16
        }
      ]
    },
    {
      "cell_type": "markdown",
      "source": [
        "# Confusion Matrix"
      ],
      "metadata": {
        "id": "pXw7C0z9XEJt"
      }
    },
    {
      "cell_type": "code",
      "source": [
        "from sklearn.metrics import multilabel_confusion_matrix, accuracy_score"
      ],
      "metadata": {
        "id": "7ctyjS3UOBm-"
      },
      "execution_count": 23,
      "outputs": []
    },
    {
      "cell_type": "code",
      "source": [
        "yhat = model.predict(X_test)"
      ],
      "metadata": {
        "colab": {
          "base_uri": "https://localhost:8080/"
        },
        "id": "p113_cMtXDsG",
        "outputId": "59222242-8961-482a-e383-bcdb4ffbf987"
      },
      "execution_count": 20,
      "outputs": [
        {
          "output_type": "stream",
          "name": "stdout",
          "text": [
            "1/1 [==============================] - 0s 57ms/step\n"
          ]
        }
      ]
    },
    {
      "cell_type": "code",
      "source": [
        "ytrue = np.argmax(y_test, axis=1).tolist()\n",
        "yhat = np.argmax(yhat, axis=1).tolist()"
      ],
      "metadata": {
        "id": "mK4ylu_3XHU2"
      },
      "execution_count": 21,
      "outputs": []
    },
    {
      "cell_type": "code",
      "source": [
        "multilabel_confusion_matrix(ytrue, yhat)"
      ],
      "metadata": {
        "colab": {
          "base_uri": "https://localhost:8080/"
        },
        "id": "MYADe7qRXI8C",
        "outputId": "97c8df69-7d82-4775-df63-482a37456c76"
      },
      "execution_count": 24,
      "outputs": [
        {
          "output_type": "execute_result",
          "data": {
            "text/plain": [
              "array([[[17,  1],\n",
              "        [ 2,  4]],\n",
              "\n",
              "       [[14,  2],\n",
              "        [ 1,  7]],\n",
              "\n",
              "       [[15,  1],\n",
              "        [ 1,  7]],\n",
              "\n",
              "       [[21,  1],\n",
              "        [ 1,  1]]])"
            ]
          },
          "metadata": {},
          "execution_count": 24
        }
      ]
    },
    {
      "cell_type": "code",
      "source": [
        "accuracy_score(ytrue, yhat)"
      ],
      "metadata": {
        "colab": {
          "base_uri": "https://localhost:8080/"
        },
        "id": "BVyjf9Y_XKaG",
        "outputId": "b61fbfbe-4365-488f-95ff-cc17b34fcea8"
      },
      "execution_count": 25,
      "outputs": [
        {
          "output_type": "execute_result",
          "data": {
            "text/plain": [
              "0.7916666666666666"
            ]
          },
          "metadata": {},
          "execution_count": 25
        }
      ]
    },
    {
      "cell_type": "markdown",
      "source": [
        "# Save Model\n"
      ],
      "metadata": {
        "id": "OSeMqJBGXSiM"
      }
    },
    {
      "cell_type": "code",
      "source": [
        "model.save('action.h5')"
      ],
      "metadata": {
        "id": "-kAH2hR9XPSh"
      },
      "execution_count": 26,
      "outputs": []
    },
    {
      "cell_type": "code",
      "source": [],
      "metadata": {
        "id": "gOgw9jzJXT7u"
      },
      "execution_count": null,
      "outputs": []
    }
  ]
}